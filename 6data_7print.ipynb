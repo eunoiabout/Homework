{
  "nbformat": 4,
  "nbformat_minor": 0,
  "metadata": {
    "colab": {
      "provenance": [],
      "authorship_tag": "ABX9TyODIJGx3H4OomfA/eQ8CPqt",
      "include_colab_link": true
    },
    "kernelspec": {
      "name": "python3",
      "display_name": "Python 3"
    },
    "language_info": {
      "name": "python"
    }
  },
  "cells": [
    {
      "cell_type": "markdown",
      "metadata": {
        "id": "view-in-github",
        "colab_type": "text"
      },
      "source": [
        "<a href=\"https://colab.research.google.com/github/eunoiabout/Homework/blob/main/6data_7print.ipynb\" target=\"_parent\"><img src=\"https://colab.research.google.com/assets/colab-badge.svg\" alt=\"Open In Colab\"/></a>"
      ]
    },
    {
      "cell_type": "code",
      "execution_count": null,
      "metadata": {
        "id": "lBsIs_YuWyWz"
      },
      "outputs": [],
      "source": [
        "#[자료형], [데이터 타입]: 숫자, 문자 등 여러 종류의 데이터 유형을 구분하기 위한 분류\n",
        "#모두 객체로 취급됨\n",
        "#1) 수치 자료\n",
        "#2) 불리언 자료\n",
        "#3) 시퀀스 자료\n",
        "#4) set 자료\n",
        "#5) 딕셔너리 자료"
      ]
    },
    {
      "cell_type": "code",
      "source": [
        "#1. 수치 자료: 수를 표현\n",
        "\n",
        "intData = 15          #(1) 정수 데이터\n",
        "floatData = 2.5       #(2) 실수 데이터\n",
        "complexData = 1 + 1j  #(3) 복소수 데이터"
      ],
      "metadata": {
        "id": "U3khm8PiYauM"
      },
      "execution_count": null,
      "outputs": []
    },
    {
      "cell_type": "code",
      "source": [
        "#2. 불리언 자료: 참과 거짓을 나타냄. 참-True, 거짓-False\n",
        "\n",
        "isTrue = True\n",
        "isFalse = False"
      ],
      "metadata": {
        "id": "CLxSK9jHZNpR"
      },
      "execution_count": null,
      "outputs": []
    },
    {
      "cell_type": "code",
      "source": [
        "#3. 시퀀스 자료: 순서가 있는 요소, 정수 인덱스로 접근\n",
        "#자료의 크기, 길이 존재\n",
        "#1) 리스트\n",
        "#2) 튜플\n",
        "#3) 문자열\n",
        "#4) range객체\n",
        "#5) 바이너리 시퀀스"
      ],
      "metadata": {
        "id": "vTz46lugZj1g"
      },
      "execution_count": null,
      "outputs": []
    },
    {
      "cell_type": "code",
      "source": [
        "#4. set 자료: 집합처럼 요소들 간 순서X, 중복X\n",
        "#\"{}\" 안에 요소 나열\n",
        "setData = {1, 2, 3, 4, 5}"
      ],
      "metadata": {
        "id": "3SgmzbwEaW6N"
      },
      "execution_count": null,
      "outputs": []
    },
    {
      "cell_type": "code",
      "source": [
        "#5. 딕셔너리 자료: 사전 \"{}\" 안에 \"키:값\"으로 된 쌍\n",
        "#콤마로 구분 나열, 인덱스로 값 접근X, 키를 이용해 대응되는 값에 접근\n",
        "\n",
        "dictData = {0:False, 1:True}"
      ],
      "metadata": {
        "id": "1fe9yUPTbaJC"
      },
      "execution_count": null,
      "outputs": []
    },
    {
      "cell_type": "code",
      "source": [
        "#+ 반복기능 자료형\n",
        "#파이썬에서는 모든 시퀀스 자료, 딕셔너리, 집합 자료는 반복 가능\n",
        "#파이썬 내장 함수 list()를 이용, 반복 가능한 자료를 리스트로 변환 가능"
      ],
      "metadata": {
        "id": "4d8ASpu7qsd-"
      },
      "execution_count": null,
      "outputs": []
    },
    {
      "cell_type": "code",
      "source": [
        "#print: 자료형 출력\n",
        "\n",
        "print('안녕하세요 파이썬!')"
      ],
      "metadata": {
        "colab": {
          "base_uri": "https://localhost:8080/"
        },
        "id": "gmsq7ZFsrJ3V",
        "outputId": "28096457-9210-4226-fc4d-f6959bc34821"
      },
      "execution_count": null,
      "outputs": [
        {
          "output_type": "stream",
          "name": "stdout",
          "text": [
            "안녕하세요 파이썬!\n"
          ]
        }
      ]
    },
    {
      "cell_type": "code",
      "source": [
        "hello = '안녕하세요 파이썬!'\n",
        "print(hello)"
      ],
      "metadata": {
        "colab": {
          "base_uri": "https://localhost:8080/"
        },
        "id": "u_m9_kykryQt",
        "outputId": "c054b782-fc2d-4a69-e694-a51354dec730"
      },
      "execution_count": null,
      "outputs": [
        {
          "output_type": "stream",
          "name": "stdout",
          "text": [
            "안녕하세요 파이썬!\n"
          ]
        }
      ]
    },
    {
      "cell_type": "code",
      "source": [
        "intData1 = 1\n",
        "intData2 = 2\n",
        "print(intData1 + intData2)"
      ],
      "metadata": {
        "colab": {
          "base_uri": "https://localhost:8080/"
        },
        "id": "SQTqpNIPr8P8",
        "outputId": "968c270e-db23-42a6-8254-01e9a0cbc6bd"
      },
      "execution_count": null,
      "outputs": [
        {
          "output_type": "stream",
          "name": "stdout",
          "text": [
            "3\n"
          ]
        }
      ]
    },
    {
      "cell_type": "code",
      "source": [
        "#프린트의 인자로 입력된 값이 콤마로 구분되어 있으면, 입력된 값을 연속으로 출력함\n",
        "\n",
        "name = '권소연'\n",
        "phone = '010-4045-8687'\n",
        "print('이름:',name,'핸드폰:',phone)"
      ],
      "metadata": {
        "colab": {
          "base_uri": "https://localhost:8080/"
        },
        "id": "I5ByjABesNQx",
        "outputId": "3fde7b55-edd1-4f6f-ad55-ad8339048556"
      },
      "execution_count": null,
      "outputs": [
        {
          "output_type": "stream",
          "name": "stdout",
          "text": [
            "이름: 권소연 핸드폰: 010-4045-8687\n"
          ]
        }
      ]
    },
    {
      "cell_type": "code",
      "source": [
        "#print()는 입력된 값 출력 후 줄바꿈을 함.\n",
        "#print('인자',end=''): 줄바꿈을 하지 않고 연속으로 출력함.\n",
        "\n",
        "print('#',end='')\n",
        "print('#'*5)"
      ],
      "metadata": {
        "colab": {
          "base_uri": "https://localhost:8080/"
        },
        "id": "Kx7xK3knsqzu",
        "outputId": "c168dcd3-fe45-41d2-dc52-2e30b613c1b9"
      },
      "execution_count": null,
      "outputs": [
        {
          "output_type": "stream",
          "name": "stdout",
          "text": [
            "######\n"
          ]
        }
      ]
    },
    {
      "cell_type": "code",
      "source": [
        "#콤마로 구분하여 입력된 값을 특정 문자나 문자열로 구분하여 출력하려면 print()의 마지막 인자로 sep=<구분문자/구분문자열>을 지정함\n",
        "\n",
        "print(name, phone, sep=';')"
      ],
      "metadata": {
        "colab": {
          "base_uri": "https://localhost:8080/"
        },
        "id": "qYYNA6uBtWX4",
        "outputId": "e5445ee7-f47d-4b59-a94c-ce9804efe4cc"
      },
      "execution_count": null,
      "outputs": [
        {
          "output_type": "stream",
          "name": "stdout",
          "text": [
            "권소연;010-4045-8687\n"
          ]
        }
      ]
    }
  ]
}