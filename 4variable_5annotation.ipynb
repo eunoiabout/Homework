{
  "nbformat": 4,
  "nbformat_minor": 0,
  "metadata": {
    "colab": {
      "provenance": [],
      "authorship_tag": "ABX9TyM3JdXLnvaqfkXdEBMa8oq8",
      "include_colab_link": true
    },
    "kernelspec": {
      "name": "python3",
      "display_name": "Python 3"
    },
    "language_info": {
      "name": "python"
    }
  },
  "cells": [
    {
      "cell_type": "markdown",
      "metadata": {
        "id": "view-in-github",
        "colab_type": "text"
      },
      "source": [
        "<a href=\"https://colab.research.google.com/github/eunoiabout/Homework/blob/main/4variable_5annotation.ipynb\" target=\"_parent\"><img src=\"https://colab.research.google.com/assets/colab-badge.svg\" alt=\"Open In Colab\"/></a>"
      ]
    },
    {
      "cell_type": "code",
      "execution_count": null,
      "metadata": {
        "id": "DIsftVuIfsWl"
      },
      "outputs": [],
      "source": [
        "#변수명 규칙1: 언더스코어(_) 또는 영문자로 시작\n",
        "\n",
        "_myname = 'Soyeon'\n",
        "my_name = '권소연'\n",
        "MyName3 = 'Kwonso-yeon'\n",
        "country = '대한민국'"
      ]
    },
    {
      "cell_type": "code",
      "source": [
        "#숫자로 시작하는 변수명은 오류 발생\n",
        "\n",
        "1_str = '안녕하세요 파이썬!'"
      ],
      "metadata": {
        "colab": {
          "base_uri": "https://localhost:8080/",
          "height": 110
        },
        "id": "7LF2jsBYhopy",
        "outputId": "34a7e8fa-8ed4-4726-a8da-7f277c0ca8b5"
      },
      "execution_count": null,
      "outputs": [
        {
          "output_type": "error",
          "ename": "SyntaxError",
          "evalue": "invalid decimal literal (ipython-input-2143026393.py, line 3)",
          "traceback": [
            "\u001b[0;36m  File \u001b[0;32m\"/tmp/ipython-input-2143026393.py\"\u001b[0;36m, line \u001b[0;32m3\u001b[0m\n\u001b[0;31m    1_str = '안녕하세요 파이썬!'\u001b[0m\n\u001b[0m     ^\u001b[0m\n\u001b[0;31mSyntaxError\u001b[0m\u001b[0;31m:\u001b[0m invalid decimal literal\n"
          ]
        }
      ]
    },
    {
      "cell_type": "code",
      "source": [
        "#특수기호를 사용한 변수명은 오류 발생\n",
        "\n",
        "_%var = 'Temp Variables'\n",
        "@adress = 'samsjang@naver.com'"
      ],
      "metadata": {
        "colab": {
          "base_uri": "https://localhost:8080/",
          "height": 110
        },
        "id": "agIF6QShh1le",
        "outputId": "4a5efde7-37d4-4ce2-8409-3579ea240753"
      },
      "execution_count": null,
      "outputs": [
        {
          "output_type": "error",
          "ename": "SyntaxError",
          "evalue": "cannot assign to expression here. Maybe you meant '==' instead of '='? (ipython-input-1562757962.py, line 3)",
          "traceback": [
            "\u001b[0;36m  File \u001b[0;32m\"/tmp/ipython-input-1562757962.py\"\u001b[0;36m, line \u001b[0;32m3\u001b[0m\n\u001b[0;31m    _%var = 'Temp Variables'\u001b[0m\n\u001b[0m    ^\u001b[0m\n\u001b[0;31mSyntaxError\u001b[0m\u001b[0;31m:\u001b[0m cannot assign to expression here. Maybe you meant '==' instead of '='?\n"
          ]
        }
      ]
    },
    {
      "cell_type": "code",
      "source": [
        "#변수명 규칙2: 변수명의 두 번째 문자부터 알파벳, 숫자, 밑줄 문자 사용 가능\n",
        "#변수명 규칙3: 변수명은 대소문자를 구분함\n",
        "\n",
        "counter = 1\n",
        "Counter = 2"
      ],
      "metadata": {
        "id": "IR0_witEh-VR"
      },
      "execution_count": null,
      "outputs": []
    },
    {
      "cell_type": "code",
      "source": [
        "#변수명 규칙4: 파이썬에서 이미 사용하고 있는 일부 단어[파이썬 예약어]는 사용 불가\n",
        "#ex) if, while, elif, for, def, class\n",
        "\n",
        "and = 1"
      ],
      "metadata": {
        "colab": {
          "base_uri": "https://localhost:8080/",
          "height": 110
        },
        "id": "RJcbZhXMi9F1",
        "outputId": "8d679a9f-472c-4ed1-cf91-c1f95028440e"
      },
      "execution_count": null,
      "outputs": [
        {
          "output_type": "error",
          "ename": "SyntaxError",
          "evalue": "invalid syntax (ipython-input-1342610161.py, line 4)",
          "traceback": [
            "\u001b[0;36m  File \u001b[0;32m\"/tmp/ipython-input-1342610161.py\"\u001b[0;36m, line \u001b[0;32m4\u001b[0m\n\u001b[0;31m    and = 1\u001b[0m\n\u001b[0m    ^\u001b[0m\n\u001b[0;31mSyntaxError\u001b[0m\u001b[0;31m:\u001b[0m invalid syntax\n"
          ]
        }
      ]
    },
    {
      "cell_type": "code",
      "source": [
        "#파이썬 예약어 확인 프롬프트\n",
        "\n",
        "import keyword\n",
        "keyword.kwlist"
      ],
      "metadata": {
        "colab": {
          "base_uri": "https://localhost:8080/"
        },
        "id": "gogADMmSjbiS",
        "outputId": "2bce8ce7-4317-4005-e15f-299d09283ff0"
      },
      "execution_count": null,
      "outputs": [
        {
          "output_type": "execute_result",
          "data": {
            "text/plain": [
              "['False',\n",
              " 'None',\n",
              " 'True',\n",
              " 'and',\n",
              " 'as',\n",
              " 'assert',\n",
              " 'async',\n",
              " 'await',\n",
              " 'break',\n",
              " 'class',\n",
              " 'continue',\n",
              " 'def',\n",
              " 'del',\n",
              " 'elif',\n",
              " 'else',\n",
              " 'except',\n",
              " 'finally',\n",
              " 'for',\n",
              " 'from',\n",
              " 'global',\n",
              " 'if',\n",
              " 'import',\n",
              " 'in',\n",
              " 'is',\n",
              " 'lambda',\n",
              " 'nonlocal',\n",
              " 'not',\n",
              " 'or',\n",
              " 'pass',\n",
              " 'raise',\n",
              " 'return',\n",
              " 'try',\n",
              " 'while',\n",
              " 'with',\n",
              " 'yield']"
            ]
          },
          "metadata": {},
          "execution_count": 10
        }
      ]
    },
    {
      "cell_type": "code",
      "source": [
        "#변수명 규칙5: 주어진 수를 절대값으로 변환하는 함수 abs()를 사용하면 더이상 abs()를 사용할 수 없음\n",
        "\n",
        "abs = 1\n",
        "abs(-1)\n",
        "\n",
        "#변수명으로 사용된 abs를 함수처럼 호출하여 발생하는 오류임."
      ],
      "metadata": {
        "colab": {
          "base_uri": "https://localhost:8080/",
          "height": 219
        },
        "id": "XZBwsZYLlXJW",
        "outputId": "08e0c497-ed4e-4c54-cd16-aca972d0ad51"
      },
      "execution_count": null,
      "outputs": [
        {
          "output_type": "error",
          "ename": "TypeError",
          "evalue": "'int' object is not callable",
          "traceback": [
            "\u001b[0;31m---------------------------------------------------------------------------\u001b[0m",
            "\u001b[0;31mTypeError\u001b[0m                                 Traceback (most recent call last)",
            "\u001b[0;32m/tmp/ipython-input-2169178258.py\u001b[0m in \u001b[0;36m<cell line: 0>\u001b[0;34m()\u001b[0m\n\u001b[1;32m      2\u001b[0m \u001b[0;34m\u001b[0m\u001b[0m\n\u001b[1;32m      3\u001b[0m \u001b[0mabs\u001b[0m \u001b[0;34m=\u001b[0m \u001b[0;36m1\u001b[0m\u001b[0;34m\u001b[0m\u001b[0;34m\u001b[0m\u001b[0m\n\u001b[0;32m----> 4\u001b[0;31m \u001b[0mabs\u001b[0m\u001b[0;34m(\u001b[0m\u001b[0;34m-\u001b[0m\u001b[0;36m1\u001b[0m\u001b[0;34m)\u001b[0m\u001b[0;34m\u001b[0m\u001b[0;34m\u001b[0m\u001b[0m\n\u001b[0m\u001b[1;32m      5\u001b[0m \u001b[0;34m\u001b[0m\u001b[0m\n\u001b[1;32m      6\u001b[0m \u001b[0;31m#변수명으로 사용된 abs를 함수처럼 호출하여 발생하는 오류임.\u001b[0m\u001b[0;34m\u001b[0m\u001b[0;34m\u001b[0m\u001b[0m\n",
            "\u001b[0;31mTypeError\u001b[0m: 'int' object is not callable"
          ]
        }
      ]
    },
    {
      "cell_type": "code",
      "source": [
        "#변수명 규칙6: 변수의 값을 할당하는 기호는 \"=\", 할당되는 값의 타입에 따라 변수의 자료형 결정\n",
        "\n",
        "intData = 1\n",
        "pi = 3.14\n",
        "\n",
        "#flag에 True를 할당하여 참 또는 거짓을 나타내는 불리언(boolean)자료로 활용\n",
        "flag = True"
      ],
      "metadata": {
        "id": "b6eeopEtmgmE"
      },
      "execution_count": null,
      "outputs": []
    },
    {
      "cell_type": "code",
      "source": [
        "#변수명 규칙7: 한 개 또는 여러 개의 문자열을 변수에 할당하여 문자열 자료를 만듦\n",
        "#변수명 규칙8: 변수에 정수를 할당하였다고 정수자료형으로 고정되는 것이 아니며, 변수에 값이 할당되는 시점에 변수의 자료형은 자동으로 다시 정해짐\n",
        "\n",
        "buffer = 1\n",
        "bufffer + 2\n",
        "3\n",
        "buffer = 'three'\n",
        "buffer\n",
        "'three'"
      ],
      "metadata": {
        "colab": {
          "base_uri": "https://localhost:8080/",
          "height": 219
        },
        "id": "FEyfJ_HznZTN",
        "outputId": "91e65c0a-aca9-4cec-f4e0-045bf04e142e"
      },
      "execution_count": null,
      "outputs": [
        {
          "output_type": "error",
          "ename": "NameError",
          "evalue": "name 'bufffer' is not defined",
          "traceback": [
            "\u001b[0;31m---------------------------------------------------------------------------\u001b[0m",
            "\u001b[0;31mNameError\u001b[0m                                 Traceback (most recent call last)",
            "\u001b[0;32m/tmp/ipython-input-3989833173.py\u001b[0m in \u001b[0;36m<cell line: 0>\u001b[0;34m()\u001b[0m\n\u001b[1;32m      3\u001b[0m \u001b[0;34m\u001b[0m\u001b[0m\n\u001b[1;32m      4\u001b[0m \u001b[0mbuffer\u001b[0m \u001b[0;34m=\u001b[0m \u001b[0;36m1\u001b[0m\u001b[0;34m\u001b[0m\u001b[0;34m\u001b[0m\u001b[0m\n\u001b[0;32m----> 5\u001b[0;31m \u001b[0mbufffer\u001b[0m \u001b[0;34m+\u001b[0m \u001b[0;36m2\u001b[0m\u001b[0;34m\u001b[0m\u001b[0;34m\u001b[0m\u001b[0m\n\u001b[0m\u001b[1;32m      6\u001b[0m \u001b[0;36m3\u001b[0m\u001b[0;34m\u001b[0m\u001b[0;34m\u001b[0m\u001b[0m\n\u001b[1;32m      7\u001b[0m \u001b[0mbuffer\u001b[0m \u001b[0;34m=\u001b[0m \u001b[0;34m'three'\u001b[0m\u001b[0;34m\u001b[0m\u001b[0;34m\u001b[0m\u001b[0m\n",
            "\u001b[0;31mNameError\u001b[0m: name 'bufffer' is not defined"
          ]
        }
      ]
    },
    {
      "cell_type": "code",
      "source": [
        "#[#]주석 처리하기\n",
        "###만든 날짜: 2025.09.09\n",
        "\n",
        "a = 1       # a에 1을 할당\n",
        "b = 5       # b에 5를 할당\n",
        "print(a+b)  # a+b의 값을 출력"
      ],
      "metadata": {
        "colab": {
          "base_uri": "https://localhost:8080/"
        },
        "id": "TYbVb1E1oP9j",
        "outputId": "53861c13-3919-4d07-d748-e18b81da1f1a"
      },
      "execution_count": null,
      "outputs": [
        {
          "output_type": "stream",
          "name": "stdout",
          "text": [
            "6\n"
          ]
        }
      ]
    },
    {
      "cell_type": "code",
      "source": [
        "#[삼중 따옴표]: 특정 영역을 주석처리\n",
        "\n",
        "comment = 'result ='\n",
        "\"\"\"a = 1          # 삼중 따옴표 주석\n",
        "b = 100\n",
        "print (a+b)\"\"\"\n",
        "a = 5             # 여기 라인 이후부터 유효한 코드\n",
        "b = 50\n",
        "print(comment, a+b)\n"
      ],
      "metadata": {
        "colab": {
          "base_uri": "https://localhost:8080/"
        },
        "id": "79AEBWPKpDo6",
        "outputId": "71635e16-f4cd-4572-c4bc-3213759b9a12"
      },
      "execution_count": null,
      "outputs": [
        {
          "output_type": "stream",
          "name": "stdout",
          "text": [
            "result = 55\n"
          ]
        }
      ]
    }
  ]
}